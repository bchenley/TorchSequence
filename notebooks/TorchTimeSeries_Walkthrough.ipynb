{
  "cells": [
    {
      "cell_type": "markdown",
      "metadata": {
        "id": "view-in-github",
        "colab_type": "text"
      },
      "source": [
        "<a href=\"https://colab.research.google.com/github/bchenley/TorchTimeSeries/blob/main/notebooks/TorchTimeSeries_Walkthrough.ipynb\" target=\"_parent\"><img src=\"https://colab.research.google.com/assets/colab-badge.svg\" alt=\"Open In Colab\"/></a>"
      ]
    },
    {
      "cell_type": "markdown",
      "metadata": {
        "id": "NELZ2zUmXOaT"
      },
      "source": [
        "The purpose of this notebook is to walk through of how to use TorchTimeSeries for time series modeling.\n",
        "\n",
        "**Step 1: Clone the TorchTimeSeries Repository**\n",
        "\n",
        "The first step is to clone the TorchTimeSeries repository to your local machine. This will allow you to access the package and its contents. Open your command line or terminal and navigate to the directory where you want to clone the repository. Run the following command to clone the repository:"
      ]
    },
    {
      "cell_type": "code",
      "execution_count": 1,
      "metadata": {
        "id": "CKEEb0FB9ke4",
        "colab": {
          "base_uri": "https://localhost:8080/"
        },
        "outputId": "cdbb38ab-5161-47c5-8cca-fbbf0b979f23"
      },
      "outputs": [
        {
          "output_type": "stream",
          "name": "stdout",
          "text": [
            "Cloning into 'TorchTimeSeries'...\n",
            "remote: Enumerating objects: 992, done.\u001b[K\n",
            "remote: Counting objects: 100% (437/437), done.\u001b[K\n",
            "remote: Compressing objects: 100% (143/143), done.\u001b[K\n",
            "remote: Total 992 (delta 307), reused 415 (delta 294), pack-reused 555\u001b[K\n",
            "Receiving objects: 100% (992/992), 872.69 KiB | 3.49 MiB/s, done.\n",
            "Resolving deltas: 100% (657/657), done.\n"
          ]
        }
      ],
      "source": [
        "!git clone https://github.com/bchenley/TorchTimeSeries.git"
      ]
    },
    {
      "cell_type": "markdown",
      "metadata": {
        "id": "0POMjW_dXVar"
      },
      "source": [
        "Wait for the cloning process to complete. Once it's done, you will have a local copy of the TorchTimeSeries repository on your machine.\n",
        "\n",
        "**Step 2: Install the TorchTimeSeries package and its dependencies**\n",
        "\n",
        "Now that you have cloned the repository, you need to install the TorchTimeSeries package and its dependencies. Change your current directory to the cloned repository:\n",
        "\n"
      ]
    },
    {
      "cell_type": "code",
      "execution_count": 2,
      "metadata": {
        "id": "dKCcb8bQORzm",
        "colab": {
          "base_uri": "https://localhost:8080/"
        },
        "outputId": "07e4c18e-6cd6-4b77-aa18-8c003403afd7"
      },
      "outputs": [
        {
          "output_type": "stream",
          "name": "stdout",
          "text": [
            "/content/TorchTimeSeries\n"
          ]
        }
      ],
      "source": [
        "%cd /content/TorchTimeSeries"
      ]
    },
    {
      "cell_type": "markdown",
      "metadata": {
        "id": "0ex70E-mWieQ"
      },
      "source": [
        "Next, you need to install torch and pytorch_lightning packages. Run the following commands:"
      ]
    },
    {
      "cell_type": "code",
      "execution_count": 3,
      "metadata": {
        "id": "GSM6vroNp2Bx",
        "colab": {
          "base_uri": "https://localhost:8080/"
        },
        "outputId": "846bcb59-f037-49f4-bed7-348606c779ee"
      },
      "outputs": [
        {
          "output_type": "stream",
          "name": "stdout",
          "text": [
            "torch installed.\n",
            "\u001b[2K     \u001b[90m━━━━━━━━━━━━━━━━━━━━━━━━━━━━━━━━━━━━━━\u001b[0m \u001b[32m721.2/721.2 kB\u001b[0m \u001b[31m10.7 MB/s\u001b[0m eta \u001b[36m0:00:00\u001b[0m\n",
            "\u001b[2K     \u001b[90m━━━━━━━━━━━━━━━━━━━━━━━━━━━━━━━━━━━━━━\u001b[0m \u001b[32m519.2/519.2 kB\u001b[0m \u001b[31m21.6 MB/s\u001b[0m eta \u001b[36m0:00:00\u001b[0m\n",
            "\u001b[?25hpytorch_lightning installed.\n"
          ]
        }
      ],
      "source": [
        "!pip install torch --quiet\n",
        "print(\"torch installed.\")\n",
        "!pip install pytorch_lightning --quiet\n",
        "print(\"pytorch_lightning installed.\")"
      ]
    },
    {
      "cell_type": "markdown",
      "metadata": {
        "id": "oLfuACHxXlFv"
      },
      "source": [
        "Next, you can import the package and other dependencies:"
      ]
    },
    {
      "cell_type": "code",
      "execution_count": 4,
      "metadata": {
        "id": "-vqQlwVK2G9x",
        "colab": {
          "base_uri": "https://localhost:8080/"
        },
        "outputId": "d32449e8-ef08-473b-ec71-44e64c31a184"
      },
      "outputs": [
        {
          "output_type": "stream",
          "name": "stdout",
          "text": [
            "Initializing TorchTimeSeries package...\n",
            "Done\n"
          ]
        }
      ],
      "source": [
        "from src import *"
      ]
    },
    {
      "cell_type": "code",
      "execution_count": 5,
      "metadata": {
        "id": "S9O5ihePXypT"
      },
      "outputs": [],
      "source": [
        "import torch\n",
        "import numpy as np\n",
        "import pytorch_lightning as pl\n",
        "import matplotlib.pyplot as plt\n",
        "from PIL import Image"
      ]
    },
    {
      "cell_type": "markdown",
      "metadata": {
        "id": "bGIqEvfNX1Na"
      },
      "source": [
        "Lets consider a simple example to illustrate the use of TorchTimeSeries. First, we need data. Here, we will create synthetic data using our Laguerre Recurrent Unit (LRU) module. The LRU is an RNN based on the autorecursive relation of the discrete Laguerre basis, a set of orthogonal functions that take the form of exponentially decaying polynomials. It is characterized by a single trainable parameter (defined by the `relax` parameter) that governs the spread of the functions."
      ]
    },
    {
      "cell_type": "code",
      "execution_count": 6,
      "metadata": {
        "id": "m3vOXDbWMl3X",
        "colab": {
          "base_uri": "https://localhost:8080/",
          "height": 253
        },
        "outputId": "ba2ab7a6-acfe-4714-abc3-4270c633ee43"
      },
      "outputs": [
        {
          "output_type": "execute_result",
          "data": {
            "text/plain": [
              "<matplotlib.legend.Legend at 0x7fe8033b0b20>"
            ]
          },
          "metadata": {},
          "execution_count": 6
        },
        {
          "output_type": "display_data",
          "data": {
            "text/plain": [
              "<Figure size 2000x500 with 3 Axes>"
            ],
            "image/png": "[encoded data removed]"
          },
          "metadata": {}
        }
      ],
      "source": [
        "\n",
        "lru = LRU(input_size = 1, hidden_size = 3, relax_init = [0.8])\n",
        "\n",
        "b = lru.generate_laguerre_functions(120)\n",
        "\n",
        "w = torch.tensor([[1., -1., 2.]])\n",
        "\n",
        "N = 1024\n",
        "\n",
        "t = torch.arange(N)\n",
        "\n",
        "X = torch.randn((1, N, 1))\n",
        "\n",
        "with torch.no_grad():\n",
        "  V, _= lru(X)\n",
        "\n",
        "V = V.reshape(1, N, -1)\n",
        "\n",
        "h = b.squeeze(1) @ w.t()\n",
        "y2 = V @ w.t()\n",
        "\n",
        "fig, ax = plt.subplots(2, 2, figsize = (20, 5))\n",
        "\n",
        "ax[0,0].plot(b.squeeze(1), label = ['DLF 1', 'DLF 2', 'DLF 3'])\n",
        "ax[0,0].set_title(f\"relax = {lru.relax[0]: .2f}\" )\n",
        "ax[0,0].grid()\n",
        "ax[0,0].legend()\n",
        "\n",
        "ax[1,0].plot(h, label = 'h')\n",
        "ax[1,0].grid()\n",
        "ax[1,0].legend()\n",
        "\n",
        "ax[0,1].remove()\n",
        "ax[1,1].remove()\n",
        "\n",
        "ax_24 = fig.add_subplot(2, 2, (2, 4))\n",
        "ax_24.plot(t, X[0], label = 'X')\n",
        "ax_24.plot(t, y2[0], label = 'y')\n",
        "ax_24.grid()\n",
        "ax_24.legend()"
      ]
    },
    {
      "cell_type": "markdown",
      "metadata": {
        "id": "cDM3HCmCm3SN"
      },
      "source": [
        "The first three discrete Laguerre functions (DLFs) are shown on the top left. The single function `h`, show on the botton left, is generated by taking a linear combination of these three functions according to the weight tensor `w`. The output `y` is generated by applying `w` to the output of the LRU `V`, where the columns of `V1`  are the convolution of the input `X` with the three DLFs. Therefore, `y` is equivalent to the convolution of the `X` with `h`."
      ]
    },
    {
      "cell_type": "markdown",
      "metadata": {
        "id": "H9WJm2arkImY"
      },
      "source": [
        "With our synthetic data prepared, we may prepare the data to be fed to our `DataModule`. This module employs PyTorch Lightning's `LightningDataModule`, which prepares the data and sets up the training, validation, and testing dataloaders.\n",
        "\n",
        "To do this, we place the data in a dictionary. `DataModule` expects the input-output data to be 2D, where the columns represent the features of the data and the rows represent each time index. Remember that dictionary must also contain the time variable, which may be 1D."
      ]
    },
    {
      "cell_type": "code",
      "execution_count": 7,
      "metadata": {
        "id": "jmaW1fc8F6YG"
      },
      "outputs": [],
      "source": [
        "data = {'X': X[0],\n",
        "        'y': y2[0],\n",
        "        't': t}"
      ]
    },
    {
      "cell_type": "markdown",
      "metadata": {
        "id": "11jB-Bvttc_G"
      },
      "source": [
        "We may now move on to creating our model. Here, we want to build a single-input-single-output model. This is a good place introduce the general architecture of the model. The full archicture of the model used in TorchTimeSeries is shown below, oriented left-to-right:"
      ]
    },
    {
      "cell_type": "code",
      "execution_count": 8,
      "metadata": {
        "id": "l3Vk5jaouNnO",
        "colab": {
          "base_uri": "https://localhost:8080/",
          "height": 190
        },
        "outputId": "3f02bbdf-dea0-4c3f-a628-8b24cbcc2240"
      },
      "outputs": [
        {
          "output_type": "display_data",
          "data": {
            "text/plain": [
              "<PIL.PngImagePlugin.PngImageFile image mode=RGBA size=560x173 at 0x7FE800F42AA0>"
            ],
            "image/png": "[encoded data removed]"
          },
          "metadata": {}
        }
      ],
      "source": [
        "\n",
        "image_path = '/content/TorchTimeSeries/models/SequenceModel.drawio.png'\n",
        "\n",
        "image = Image.open(image_path)\n",
        "image.show()\n"
      ]
    },
    {
      "cell_type": "markdown",
      "metadata": {
        "id": "TAe0LrjruudH"
      },
      "source": [
        "The model is generally a multi-input-multi-output configuration with 5 possible layers.\n",
        "\n",
        "The first layer is the **sequence base layer**, which serves as a filterbank capturing the dynamics of the input-output relation. Each input `X_k` has its own individual base, which can be a Gated Recurrent Unit (GRU), Long-Short-Term Memory (LSTM) network, Laguerre Recurrent Unit (LRU), or a transformer encoder/decoder.\n",
        "\n",
        "The second layer is the **input-associated hidden layer**, in which the kth hidden unit (`HU_k`) receives the output of the sequence base layer corresponding to the kth input. This layer allows for the modeling of possible dynamic nonlinearities. The nonlinear activation functions in this layer include commonly used functions such as ReLU, sigmoid, softmax, and tanh. Additionally, a polynomial activation is provided as an alternative nonlinear activation to offer more flexibility.\n",
        "\n",
        "The third layer is the **interaction layer**, facilitating \"cross-talk\" between the inputs as they affect the outputs. Unlike the input-associated hidden layer, this layer is fully connected, so that the ith interaction unit (`IU_i`) receives the output of all input-associated hidden units. It provides the same flexibility in the choice of nonlinear activation functions.\n",
        "\n",
        "The fourth layer is the **temporal modulation layer**, responsible for modeling nonstationary behavior. This layer does not directly model the time-varying characteristics of the input or output, but rather the time dependent relation between the inputs and outputs. Currently, this layer includes options such as Legendre polynomials, Chebychev polynomials, Fourier basis functions, and the sigmoid function. However, additional functions (such as Hermite and Laguerre) can be added by the user.\n",
        "\n",
        "Finally, the fifth layer is the **output layer**, which generates the model's outputs.\n",
        "\n",
        "It's important to note that this is the full architecture, but you can specify a model with fewer layers based on your needs. In our present example, we will build a single-input-single-output architecture with an LRU base."
      ]
    },
    {
      "cell_type": "code",
      "execution_count": 9,
      "metadata": {
        "id": "Da-dTDEGMl3Y"
      },
      "outputs": [],
      "source": [
        "# model\n",
        "model = SequenceModel(num_inputs = 1, num_outputs = 1,\n",
        "                      input_size = [1], output_size = [1],\n",
        "                      base_type = ['lru'], base_hidden_size = [3],\n",
        "                      hidden_out_features = [1], hidden_bias = [False],\n",
        "                      stateful = True)\n",
        "#"
      ]
    },
    {
      "cell_type": "markdown",
      "metadata": {
        "id": "JoEWNeQW4jqY"
      },
      "source": [
        "Here, we have specified that that we have one input and one output, each having one feature. We set the base type for each to be an LRU, both using the first three DLFs. The input-associated hidden layer is set to one feature, since we are modeling a single impulse response. Lastly, we set the model to be stateful, meaning that the hidden states generated by the LRU at a given batch will be passed to the next batch during training. We may summarize the contents of our model by printing its object:"
      ]
    },
    {
      "cell_type": "code",
      "execution_count": 10,
      "metadata": {
        "colab": {
          "base_uri": "https://localhost:8080/"
        },
        "id": "-G1lSNa_5nKt",
        "outputId": "317e9c33-0ba3-4e64-ee38-a2e7847292e1"
      },
      "outputs": [
        {
          "output_type": "stream",
          "name": "stdout",
          "text": [
            "seq_base.0.base.relax: shape = torch.Size([1]). 1 parameters. Trainable\n",
            "hidden_layer.0.F.0.weight: shape = torch.Size([1, 3]). 3 parameters. Trainable\n",
            "output_layer.0.F.0.weight: shape = torch.Size([1, 1]). 1 parameters. Untrainable\n",
            "output_layer.0.F.0.bias: shape = torch.Size([1]). 1 parameters. Trainable\n",
            "-------------------------------------\n",
            "6 total parameters.\n",
            "5 total trainable parameters.\n"
          ]
        }
      ],
      "source": [
        "print(model)"
      ]
    },
    {
      "cell_type": "markdown",
      "metadata": {
        "id": "YmGV0aCv5oKi"
      },
      "source": [
        "We observe that the model is small, having only 6 parameters. Only five of them are trainable, since the inbound weight in the input-associated hidden layer is set to one due to the fact that the number of input and output features are both one, obviating the need for this weight."
      ]
    },
    {
      "cell_type": "markdown",
      "metadata": {
        "id": "CkBeOCeE527R"
      },
      "source": [
        "Next, we build our datamodule, which depeonds on our custom `DataModule`:"
      ]
    },
    {
      "cell_type": "code",
      "execution_count": 11,
      "metadata": {
        "id": "1W5g_veR3cPE"
      },
      "outputs": [],
      "source": [
        "\n",
        "datamodule = DataModule(data = data,\n",
        "                        time_name = 't', input_names = ['X'], output_names = ['y'],\n",
        "                        time_unit = 's',\n",
        "                        transforms = {'all': FeatureTransform('identity')},\n",
        "                        pct_train_val_test = [0.7, 0.15, 0.15],\n",
        "                        input_len = [1], output_len = [1],\n",
        "                        batch_size = 1,\n",
        "                        shift = [0], stride = 1)\n"
      ]
    },
    {
      "cell_type": "markdown",
      "metadata": {
        "id": "GmQfs_Mo6GEj"
      },
      "source": [
        "Here, we have given the module our data dictionary and specified which variables are the input and output, along with the name of the time variable. We also tell the module not to transform (using our `FeatureTransform` class), since we know the input is already Guassian with unit variance and zero mean. We specify that we would like to use the first 70% of the entire dataset for training, the next 15% for validation, and the remaining for testing. We inform the module that the length of both the input and output is one, meaning that a given sample at time `t_i` is characterized by `{X_i, y_i}`. We use a single sample per batch, as it has been found that the LRU-based unit trains better when one time point is considered at a time."
      ]
    },
    {
      "cell_type": "markdown",
      "metadata": {
        "id": "tEM6LwO38IkJ"
      },
      "source": [
        "Next, we construct our Lightnight module `SequenceModule`, which perform the training and evaluation. We need to provide this module with our model, the criterion used for optimizing the model, and the optimizer used."
      ]
    },
    {
      "cell_type": "code",
      "execution_count": 12,
      "metadata": {
        "id": "DzNLyXub6FBu"
      },
      "outputs": [],
      "source": [
        "\n",
        "# lightingmodule\n",
        "loss_fn = Loss('mse', dims = (0, 1))\n",
        "\n",
        "opt = torch.optim.Adam(params = model.parameters(), betas = [0.9, 0.999], lr = 0.002)\n",
        "\n",
        "seq_module = SequenceModule(model = model,\n",
        "                            opt = opt, loss_fn = loss_fn,\n",
        "                            track = True)\n"
      ]
    },
    {
      "cell_type": "markdown",
      "metadata": {
        "id": "4LMTcznS81C3"
      },
      "source": [
        "Here, we specify that we will use the mean squared error (MSE) as our criterion function. The Adam optimizer with the default hyperparamters is used for optimization. We also wish the track the history of the parameters during training, so we set `track = True`."
      ]
    },
    {
      "cell_type": "markdown",
      "metadata": {
        "id": "TWhGhlTa9RWt"
      },
      "source": [
        "At this point, we are ready to train the model. The SequenceModule instance has a `fit` method that is ran by providing the data prepared by our datamodule."
      ]
    },
    {
      "cell_type": "code",
      "source": [
        "callbacks = [pl.callbacks.EarlyStopping(monitor = 'val_epoch_loss',\n",
        "                                        patience = 10,\n",
        "                                        verbose = False,\n",
        "                                        min_delta = 0,\n",
        "                                        mode = 'min')]\n",
        "\n",
        "seq_module.fit(datamodule = datamodule,\n",
        "               max_epochs = 20,\n",
        "               callbacks = callbacks)"
      ],
      "metadata": {
        "id": "TCUvgoC3ZtXp"
      },
      "execution_count": null,
      "outputs": []
    },
    {
      "cell_type": "markdown",
      "metadata": {
        "id": "iK0gQJ9i96qM"
      },
      "source": [
        "We have specified the use of an `EarlyStopping` callback from PyTorch Lightning's callback library. This callback monitors the validation loss (`monitor = 'val_epoch_loss'`) and checks for improvement. If the validation loss does not improve for 5 consecutive epochs (`patience = 5`), training will stop early.\n",
        "\n",
        "The `min_delta` parameter is set to 0, indicating that any improvement in the validation loss will be considered significant. The `mode` is set to 'min' to indicate that we want to minimize the validation loss.\n",
        "\n",
        "During the training process, we pass the `datamodule` to the `fit()` function to provide the data for training. The `max_epochs` parameter is set to 500, indicating that we want to train the model for a maximum of 500 epochs.\n",
        "\n",
        "By including the `callbacks` parameter and specifying the `EarlyStopping` callback, we ensure that the training process will stop if the validation loss does not improve for a specified number of epochs, providing a way to prevent overfitting and optimize the model's performance.\n",
        "\n",
        "In this case, we've cheated, since we built a model that is based on the exact archicture used to generate the data. Therefore, we should expect perfect results."
      ]
    },
    {
      "cell_type": "markdown",
      "metadata": {
        "id": "c4tk1rxheM19"
      },
      "source": [
        "Now that the model has been trained. We can look at how well it predicts on the training, validation, and test data. To do this, we rune the `predict` method:"
      ]
    },
    {
      "cell_type": "code",
      "execution_count": 14,
      "metadata": {
        "id": "cpwJqlYMdfJp",
        "colab": {
          "base_uri": "https://localhost:8080/",
          "height": 202,
          "referenced_widgets": [
            "9facf338be8b45eebbc94102b54c3fce",
            "d3e79b983b694287a110ec94b83b7f57",
            "7de510085cef4462b664941457cda58a",
            "027945ed7b464930874ea25d20248919",
            "a6799964846440898d2baa7026d0a07b",
            "6bf459e2ae3d4f22bc02cb972dd23ee9",
            "d3def5f0b0f043948557fa10958f2dc9",
            "1472c12e2ae34e44a2d75b16e6734f76",
            "f718ee628d69472abdd85edd0b47d238",
            "4a239f7e0b2742b5870a193f94df0409",
            "77778373637e4b658bf7da43a0cea550",
            "d95ca5bbdbf94eee9acd077dc5d7382b",
            "e563772e80ae41f9a8f5be6e5f5317ae",
            "769b01172c64403b9673960f7a154943",
            "7307afd4cddd4bcda5cb696ad19a8f18",
            "6bc0bdc44a1f484a85a29b17e00347ea",
            "376eb47ae8d94bbda06db171f518b44c",
            "efe46c83b2c5490e8fcb46ea47436b46",
            "ebcfb4a80e9d4ce383155d78b2c85cbb",
            "efb88fc6868f446a98a0dbf9ca8924f3",
            "88e7219f1c7c489ca6dc7e7181fc0f9c",
            "785c0d7e1f904e1fadf5b9bb9c6e6dfd",
            "913c4e5b016e4200aeba7f5574bb6fc8",
            "b3d33c393eef46429eda05438d872cbc",
            "0dac9e0830a9473cbfbaf4fdb7ccb964",
            "55eaac25c94c4db7bd2601c463ce3fdc",
            "65e0a48488704e3ea9467a71fa5f681c",
            "4478e9da90e34d32bbd75f2d8782486a",
            "363f3bd3762545fca7da062e484d9c56",
            "d2100a6ea2f04f528a835ea6cc0c0dec",
            "db6f87ff1a0342309f129516fc9322f3",
            "fc0a17c003e24abc913e12d9b87527a2",
            "133ac4ed652b4d4492f0acc3c9e2a7d0"
          ]
        },
        "outputId": "f7d3eb23-91d5-4441-d044-d40056c9980e"
      },
      "outputs": [
        {
          "output_type": "display_data",
          "data": {
            "text/plain": [
              "Predicting: 0it [00:00, ?it/s]"
            ],
            "application/vnd.jupyter.widget-view+json": {
              "version_major": 2,
              "version_minor": 0,
              "model_id": "9facf338be8b45eebbc94102b54c3fce"
            }
          },
          "metadata": {}
        },
        {
          "output_type": "display_data",
          "data": {
            "text/plain": [
              "Predicting: 0it [00:00, ?it/s]"
            ],
            "application/vnd.jupyter.widget-view+json": {
              "version_major": 2,
              "version_minor": 0,
              "model_id": "d95ca5bbdbf94eee9acd077dc5d7382b"
            }
          },
          "metadata": {}
        },
        {
          "output_type": "stream",
          "name": "stdout",
          "text": [
            "Data length: 155\n",
            "Window size: 1\n",
            "Step indices: [0]\n",
            "Input indices for X: [0]\n",
            "Output indices for y: [0]\n"
          ]
        },
        {
          "output_type": "display_data",
          "data": {
            "text/plain": [
              "Predicting: 0it [00:00, ?it/s]"
            ],
            "application/vnd.jupyter.widget-view+json": {
              "version_major": 2,
              "version_minor": 0,
              "model_id": "913c4e5b016e4200aeba7f5574bb6fc8"
            }
          },
          "metadata": {}
        }
      ],
      "source": [
        "seq_module.predict()"
      ]
    },
    {
      "cell_type": "markdown",
      "metadata": {
        "id": "mLawI-2GfLny"
      },
      "source": [
        "The, we can plot the predictions using the `plot_predictions` method"
      ]
    },
    {
      "cell_type": "code",
      "execution_count": null,
      "metadata": {
        "id": "18ip9XbBdMRe"
      },
      "outputs": [],
      "source": [
        "seq_module.plot_predictions()"
      ]
    },
    {
      "cell_type": "markdown",
      "metadata": {
        "id": "JI7CsAbcfbc2"
      },
      "source": [
        "The plot above shows the actual (black) and predicted (red) output for the training (gray region), validation (blue region) and test (red region) data. As we anticipated the prediction is perfect, so we can't see the actual signal (black trace)."
      ]
    },
    {
      "cell_type": "markdown",
      "metadata": {
        "id": "1HV97w3Hf_bZ"
      },
      "source": [
        "You may visualize the training history with the `plot_history` method. With `track = True` in `SequenceModule`, the history is stored in `train_history` and `val_history` (if validation data is available)."
      ]
    },
    {
      "cell_type": "code",
      "execution_count": 16,
      "metadata": {
        "id": "T3b4fVu_sLJ-",
        "colab": {
          "base_uri": "https://localhost:8080/"
        },
        "outputId": "3dca645c-e4f1-4753-d5dd-7979267eb4b9"
      },
      "outputs": [
        {
          "output_type": "execute_result",
          "data": {
            "text/plain": [
              "['steps',\n",
              " 'mse_y',\n",
              " 'seq_base.0.base.relax',\n",
              " 'hidden_layer.0.F.0.weight',\n",
              " 'output_layer.0.F.0.bias']"
            ]
          },
          "metadata": {},
          "execution_count": 16
        }
      ],
      "source": [
        "list(seq_module.train_history)"
      ]
    },
    {
      "cell_type": "markdown",
      "metadata": {
        "id": "FnuJzTo3geH3"
      },
      "source": [
        "The training history is collected for each step of the training process, and includes the loss (and metric if specified) and all the trainable parameters. Let's look at the loss, average over the steps in single epoch:"
      ]
    },
    {
      "cell_type": "code",
      "execution_count": 17,
      "metadata": {
        "id": "Qh2Wltlbl2yh",
        "colab": {
          "base_uri": "https://localhost:8080/",
          "height": 467
        },
        "outputId": "68a10f31-9a03-412d-caed-0c92987bc0ca"
      },
      "outputs": [
        {
          "output_type": "display_data",
          "data": {
            "text/plain": [
              "<Figure size 500x500 with 1 Axes>"
            ],
            "image/png": "[encoded data removed]"
          },
          "metadata": {}
        }
      ],
      "source": [
        "seq_module.plot_history(['mse_y'], plot_train_history_by = 'epochs' )"
      ]
    },
    {
      "cell_type": "markdown",
      "metadata": {
        "id": "CU9pLAjKg8ez"
      },
      "source": [
        "Again, in this simple example, we should expect both the training and validation loss to approach zero."
      ]
    },
    {
      "cell_type": "markdown",
      "metadata": {
        "id": "QLWUU2G8hXOo"
      },
      "source": [
        "Now, let's look at the Laguerre paramters `relax`, which was set to 0.8 to generate the synthetic data."
      ]
    },
    {
      "cell_type": "code",
      "execution_count": 18,
      "metadata": {
        "id": "NkYlIEa5sJBg",
        "colab": {
          "base_uri": "https://localhost:8080/",
          "height": 468
        },
        "outputId": "899a0fb0-d4d5-40c7-d523-b3816a85599a"
      },
      "outputs": [
        {
          "output_type": "display_data",
          "data": {
            "text/plain": [
              "<Figure size 500x500 with 1 Axes>"
            ],
            "image/png": "[encoded data removed]"
          },
          "metadata": {}
        }
      ],
      "source": [
        "seq_module.plot_history(['seq_base.0.base.relax'], plot_train_history_by = 'steps')"
      ]
    },
    {
      "cell_type": "markdown",
      "metadata": {
        "id": "1BnH9fQJhgPd"
      },
      "source": [
        "The results are shown over each step, instead of each epoch. Clearly the `relax` parameter converged to its actual value."
      ]
    },
    {
      "cell_type": "markdown",
      "metadata": {
        "id": "M3xq5WW1h3Y0"
      },
      "source": [
        "In many cases, you might like to examine the characteristics of the model itself, as it may offer insight into the underlying system generating the input-output data. Recall that we generated our data using the output of the `LRU` model, which could be expressed as:\n",
        "\n",
        "`y = X conv h`\n",
        "\n",
        "where `h` is our \"impulse reponse function.\" Since, we know what `h` is in this exmaple, we can compare the true `h` with the model-based impulse response.\n",
        "\n",
        "We can get the model-based impulse response using the `generate_impulse_response` method. Note that to use this method, the model must have an input-associated hidden layer."
      ]
    },
    {
      "cell_type": "code",
      "execution_count": 19,
      "metadata": {
        "id": "hU0bz_FO86d_",
        "colab": {
          "base_uri": "https://localhost:8080/",
          "height": 431
        },
        "outputId": "80f2bd79-d19f-4744-b0e0-88196723928f"
      },
      "outputs": [
        {
          "output_type": "display_data",
          "data": {
            "text/plain": [
              "<Figure size 640x480 with 1 Axes>"
            ],
            "image/png": "[encoded data removed]"
          },
          "metadata": {}
        }
      ],
      "source": [
        "impulse_response = seq_module.model.generate_impulse_response(120)\n",
        "\n",
        "plt.plot(h, 'k', label = 'Actual')\n",
        "plt.plot(impulse_response[0][0], '--r', label = 'Model-based')\n",
        "plt.legend()\n",
        "plt.grid()"
      ]
    },
    {
      "cell_type": "markdown",
      "metadata": {
        "id": "v9-MaQV-jYn8"
      },
      "source": [
        "You have successfully built, training, and visualized your model.\n",
        "\n",
        "Let's try and different model using the same data. Since we know that the data involves the output being some kind of filtered verion of the input, it seems intuitive that a model based on a convolution neural network (CNN) would perform well. Let's try this by replacing the LRU with a 1D CNN. To do this, we just need to change the `base_type` of our model and configure the kernel size of our CNN to match that of our impulse reponse function `h`."
      ]
    },
    {
      "cell_type": "code",
      "execution_count": null,
      "metadata": {
        "id": "tD9pPFd0mAkU"
      },
      "outputs": [],
      "source": [
        "model = SequenceModel(num_inputs = 1, num_outputs = 1,\n",
        "                      input_size = [1], output_size = [1],\n",
        "                      base_type = ['cnn'], base_hidden_size = [1], base_cnn_bias = [False],\n",
        "                      base_cnn_kernel_size = [(120,)],\n",
        "                      hidden_out_features = [1])\n",
        "\n",
        "print(model)"
      ]
    },
    {
      "cell_type": "markdown",
      "metadata": {
        "id": "q7oGXlnHmucr"
      },
      "source": [
        "In our CNN-based model, the output value at a given time point is modeled as a linear combination of the present and past 119 input values, plus an offset at the output. This resulting in a total of 121 trainable parameters. There are 123 total parameters due the weights in input-associated hidden layer and output layer, but these untrained since the input and output of both layers have a size of 1. Note that this model is much larger than our previous model, which had only 5 parameters.\n",
        "\n",
        "We must set the `input_len` to [120] and keep the `output_len` at [1].\n",
        "\n",
        "In addition, we change our batch size from 1 to -1. This tells `DataModuel` to send all the samples at once in a single batch, however many there are.\n",
        "\n",
        "Lastly, we pad the data by setting `pad_data = True`. This ensures that all of the available data is used and is not truncated at the beginning. In this case, the training data will be padded with 119 zeros at the beginning of the input sequence. The validation data is padded with the last 119 points of the training data, and the test data is padded with the last 119 points of the validation data."
      ]
    },
    {
      "cell_type": "code",
      "execution_count": null,
      "metadata": {
        "id": "L566g-gdnvKt"
      },
      "outputs": [],
      "source": [
        "\n",
        "datamodule = DataModule(data = data,\n",
        "                        time_name = 't', input_names = ['X'], output_names = ['y'],\n",
        "                        time_unit = 's',\n",
        "                        transforms = {'all': FeatureTransform('identity')},\n",
        "                        pct_train_val_test = [0.7, 0.15, 0.15],\n",
        "                        input_len = [120], output_len = [1],\n",
        "                        batch_size = -1,\n",
        "                        pad_data = True,\n",
        "                        shift = [0], stride = 1)\n"
      ]
    },
    {
      "cell_type": "code",
      "execution_count": null,
      "metadata": {
        "id": "-5H4k_0-nvK2"
      },
      "outputs": [],
      "source": [
        "\n",
        "# lightingmodule\n",
        "loss_fn = Loss('mse', dims = (0, 1))\n",
        "\n",
        "opt = torch.optim.Adam(params = model.parameters(), betas = [0.9, 0.999], lr = 0.002)\n",
        "\n",
        "seq_module = SequenceModule(model = model,\n",
        "                            opt = opt, loss_fn = loss_fn,\n",
        "                            track = True)\n"
      ]
    },
    {
      "cell_type": "code",
      "execution_count": null,
      "metadata": {
        "colab": {
          "background_save": true
        },
        "id": "CzHkXWjUnvK2"
      },
      "outputs": [],
      "source": [
        "callbacks = [pl.callbacks.EarlyStopping(monitor = 'val_epoch_loss',\n",
        "                                        patience = 20,\n",
        "                                        verbose = False,\n",
        "                                        min_delta = 0,\n",
        "                                        mode = 'min')]\n",
        "\n",
        "seq_module.fit(datamodule = datamodule,\n",
        "               max_epochs = 300,\n",
        "               callbacks = callbacks)"
      ]
    },
    {
      "cell_type": "code",
      "execution_count": null,
      "metadata": {
        "id": "hVrVzw99q9y_"
      },
      "outputs": [],
      "source": [
        "seq_module.predict()"
      ]
    },
    {
      "cell_type": "code",
      "execution_count": null,
      "metadata": {
        "id": "VfwaQhRjq9zG"
      },
      "outputs": [],
      "source": [
        "seq_module.plot_predictions()"
      ]
    },
    {
      "cell_type": "markdown",
      "metadata": {
        "id": "L5Zw-itVrFOs"
      },
      "source": [
        "We observe that the predictive performance of this CNN-based model is near perfect, again as expected."
      ]
    },
    {
      "cell_type": "code",
      "execution_count": null,
      "metadata": {
        "id": "JclXMb4-q9zG"
      },
      "outputs": [],
      "source": [
        "seq_module.plot_history(['mse_y'], plot_train_history_by = 'epochs' )"
      ]
    },
    {
      "cell_type": "code",
      "execution_count": null,
      "metadata": {
        "id": "h0xiJ14rq9zG"
      },
      "outputs": [],
      "source": [
        "impulse_response = seq_module.model.generate_impulse_response(120)\n",
        "\n",
        "plt.plot(h, 'k', label = 'h')\n",
        "plt.plot(impulse_response[0][0], '--r', label = 'Model-based')\n",
        "plt.legend()\n",
        "plt.grid()"
      ]
    },
    {
      "cell_type": "markdown",
      "metadata": {
        "id": "5GVL0wX78zyy"
      },
      "source": [
        "Again, our predicted impulse response is near perfect. Note that since our model is CNN-based, the kernel itself should have the form of `h`. Let's check by plotting the kernel."
      ]
    },
    {
      "cell_type": "code",
      "execution_count": null,
      "metadata": {
        "id": "BmTkBH5z9fgP"
      },
      "outputs": [],
      "source": [
        "kernel = seq_module.model.seq_base[0].base.weight[0].detach().squeeze().flip(0)\n",
        "\n",
        "plt.plot(h, 'k', label = 'h')\n",
        "plt.plot(kernel, '--r', label = 'CNN kernel')\n",
        "plt.legend()\n",
        "plt.grid()"
      ]
    },
    {
      "cell_type": "markdown",
      "metadata": {
        "id": "ruc8OLxB9tsG"
      },
      "source": [
        "Indeed, we get back the original impulse resonse."
      ]
    },
    {
      "cell_type": "markdown",
      "metadata": {
        "id": "jOfQfISN9xTw"
      },
      "source": [
        "This walkthrough demonstrates how to use the `TorchTimeSeries` package. Please take a look at more [examples](https://github.com/bchenley/TorchTimeSeries/tree/main/examples) to see how the TorchTimeSeries package can be used to model more challenging cases."
      ]
    }
  ],
  "metadata": {
    "colab": {
      "provenance": [],
      "authorship_tag": "ABX9TyP+wJMnw3ArQr+h4v7lDvr7",
      "include_colab_link": true
    },
    "kernelspec": {
      "display_name": "Python 3",
      "name": "python3"
    },
    "language_info": {
      "name": "python"
    },
    "widgets": {
      "application/vnd.jupyter.widget-state+json": {
        "9facf338be8b45eebbc94102b54c3fce": {
          "model_module": "@jupyter-widgets/controls",
          "model_name": "HBoxModel",
          "model_module_version": "1.5.0",
          "state": {
            "_dom_classes": [],
            "_model_module": "@jupyter-widgets/controls",
            "_model_module_version": "1.5.0",
            "_model_name": "HBoxModel",
            "_view_count": null,
            "_view_module": "@jupyter-widgets/controls",
            "_view_module_version": "1.5.0",
            "_view_name": "HBoxView",
            "box_style": "",
            "children": [
              "IPY_MODEL_d3e79b983b694287a110ec94b83b7f57",
              "IPY_MODEL_7de510085cef4462b664941457cda58a",
              "IPY_MODEL_027945ed7b464930874ea25d20248919"
            ],
            "layout": "IPY_MODEL_a6799964846440898d2baa7026d0a07b"
          }
        },
        "d3e79b983b694287a110ec94b83b7f57": {
          "model_module": "@jupyter-widgets/controls",
          "model_name": "HTMLModel",
          "model_module_version": "1.5.0",
          "state": {
            "_dom_classes": [],
            "_model_module": "@jupyter-widgets/controls",
            "_model_module_version": "1.5.0",
            "_model_name": "HTMLModel",
            "_view_count": null,
            "_view_module": "@jupyter-widgets/controls",
            "_view_module_version": "1.5.0",
            "_view_name": "HTMLView",
            "description": "",
            "description_tooltip": null,
            "layout": "IPY_MODEL_6bf459e2ae3d4f22bc02cb972dd23ee9",
            "placeholder": "​",
            "style": "IPY_MODEL_d3def5f0b0f043948557fa10958f2dc9",
            "value": "Predicting DataLoader 0: 100%"
          }
        },
        "7de510085cef4462b664941457cda58a": {
          "model_module": "@jupyter-widgets/controls",
          "model_name": "FloatProgressModel",
          "model_module_version": "1.5.0",
          "state": {
            "_dom_classes": [],
            "_model_module": "@jupyter-widgets/controls",
            "_model_module_version": "1.5.0",
            "_model_name": "FloatProgressModel",
            "_view_count": null,
            "_view_module": "@jupyter-widgets/controls",
            "_view_module_version": "1.5.0",
            "_view_name": "ProgressView",
            "bar_style": "success",
            "description": "",
            "description_tooltip": null,
            "layout": "IPY_MODEL_1472c12e2ae34e44a2d75b16e6734f76",
            "max": 716,
            "min": 0,
            "orientation": "horizontal",
            "style": "IPY_MODEL_f718ee628d69472abdd85edd0b47d238",
            "value": 716
          }
        },
        "027945ed7b464930874ea25d20248919": {
          "model_module": "@jupyter-widgets/controls",
          "model_name": "HTMLModel",
          "model_module_version": "1.5.0",
          "state": {
            "_dom_classes": [],
            "_model_module": "@jupyter-widgets/controls",
            "_model_module_version": "1.5.0",
            "_model_name": "HTMLModel",
            "_view_count": null,
            "_view_module": "@jupyter-widgets/controls",
            "_view_module_version": "1.5.0",
            "_view_name": "HTMLView",
            "description": "",
            "description_tooltip": null,
            "layout": "IPY_MODEL_4a239f7e0b2742b5870a193f94df0409",
            "placeholder": "​",
            "style": "IPY_MODEL_77778373637e4b658bf7da43a0cea550",
            "value": " 716/716 [00:03&lt;00:00, 222.91it/s]"
          }
        },
        "a6799964846440898d2baa7026d0a07b": {
          "model_module": "@jupyter-widgets/base",
          "model_name": "LayoutModel",
          "model_module_version": "1.2.0",
          "state": {
            "_model_module": "@jupyter-widgets/base",
            "_model_module_version": "1.2.0",
            "_model_name": "LayoutModel",
            "_view_count": null,
            "_view_module": "@jupyter-widgets/base",
            "_view_module_version": "1.2.0",
            "_view_name": "LayoutView",
            "align_content": null,
            "align_items": null,
            "align_self": null,
            "border": null,
            "bottom": null,
            "display": "inline-flex",
            "flex": null,
            "flex_flow": "row wrap",
            "grid_area": null,
            "grid_auto_columns": null,
            "grid_auto_flow": null,
            "grid_auto_rows": null,
            "grid_column": null,
            "grid_gap": null,
            "grid_row": null,
            "grid_template_areas": null,
            "grid_template_columns": null,
            "grid_template_rows": null,
            "height": null,
            "justify_content": null,
            "justify_items": null,
            "left": null,
            "margin": null,
            "max_height": null,
            "max_width": null,
            "min_height": null,
            "min_width": null,
            "object_fit": null,
            "object_position": null,
            "order": null,
            "overflow": null,
            "overflow_x": null,
            "overflow_y": null,
            "padding": null,
            "right": null,
            "top": null,
            "visibility": null,
            "width": "100%"
          }
        },
        "6bf459e2ae3d4f22bc02cb972dd23ee9": {
          "model_module": "@jupyter-widgets/base",
          "model_name": "LayoutModel",
          "model_module_version": "1.2.0",
          "state": {
            "_model_module": "@jupyter-widgets/base",
            "_model_module_version": "1.2.0",
            "_model_name": "LayoutModel",
            "_view_count": null,
            "_view_module": "@jupyter-widgets/base",
            "_view_module_version": "1.2.0",
            "_view_name": "LayoutView",
            "align_content": null,
            "align_items": null,
            "align_self": null,
            "border": null,
            "bottom": null,
            "display": null,
            "flex": null,
            "flex_flow": null,
            "grid_area": null,
            "grid_auto_columns": null,
            "grid_auto_flow": null,
            "grid_auto_rows": null,
            "grid_column": null,
            "grid_gap": null,
            "grid_row": null,
            "grid_template_areas": null,
            "grid_template_columns": null,
            "grid_template_rows": null,
            "height": null,
            "justify_content": null,
            "justify_items": null,
            "left": null,
            "margin": null,
            "max_height": null,
            "max_width": null,
            "min_height": null,
            "min_width": null,
            "object_fit": null,
            "object_position": null,
            "order": null,
            "overflow": null,
            "overflow_x": null,
            "overflow_y": null,
            "padding": null,
            "right": null,
            "top": null,
            "visibility": null,
            "width": null
          }
        },
        "d3def5f0b0f043948557fa10958f2dc9": {
          "model_module": "@jupyter-widgets/controls",
          "model_name": "DescriptionStyleModel",
          "model_module_version": "1.5.0",
          "state": {
            "_model_module": "@jupyter-widgets/controls",
            "_model_module_version": "1.5.0",
            "_model_name": "DescriptionStyleModel",
            "_view_count": null,
            "_view_module": "@jupyter-widgets/base",
            "_view_module_version": "1.2.0",
            "_view_name": "StyleView",
            "description_width": ""
          }
        },
        "1472c12e2ae34e44a2d75b16e6734f76": {
          "model_module": "@jupyter-widgets/base",
          "model_name": "LayoutModel",
          "model_module_version": "1.2.0",
          "state": {
            "_model_module": "@jupyter-widgets/base",
            "_model_module_version": "1.2.0",
            "_model_name": "LayoutModel",
            "_view_count": null,
            "_view_module": "@jupyter-widgets/base",
            "_view_module_version": "1.2.0",
            "_view_name": "LayoutView",
            "align_content": null,
            "align_items": null,
            "align_self": null,
            "border": null,
            "bottom": null,
            "display": null,
            "flex": "2",
            "flex_flow": null,
            "grid_area": null,
            "grid_auto_columns": null,
            "grid_auto_flow": null,
            "grid_auto_rows": null,
            "grid_column": null,
            "grid_gap": null,
            "grid_row": null,
            "grid_template_areas": null,
            "grid_template_columns": null,
            "grid_template_rows": null,
            "height": null,
            "justify_content": null,
            "justify_items": null,
            "left": null,
            "margin": null,
            "max_height": null,
            "max_width": null,
            "min_height": null,
            "min_width": null,
            "object_fit": null,
            "object_position": null,
            "order": null,
            "overflow": null,
            "overflow_x": null,
            "overflow_y": null,
            "padding": null,
            "right": null,
            "top": null,
            "visibility": null,
            "width": null
          }
        },
        "f718ee628d69472abdd85edd0b47d238": {
          "model_module": "@jupyter-widgets/controls",
          "model_name": "ProgressStyleModel",
          "model_module_version": "1.5.0",
          "state": {
            "_model_module": "@jupyter-widgets/controls",
            "_model_module_version": "1.5.0",
            "_model_name": "ProgressStyleModel",
            "_view_count": null,
            "_view_module": "@jupyter-widgets/base",
            "_view_module_version": "1.2.0",
            "_view_name": "StyleView",
            "bar_color": null,
            "description_width": ""
          }
        },
        "4a239f7e0b2742b5870a193f94df0409": {
          "model_module": "@jupyter-widgets/base",
          "model_name": "LayoutModel",
          "model_module_version": "1.2.0",
          "state": {
            "_model_module": "@jupyter-widgets/base",
            "_model_module_version": "1.2.0",
            "_model_name": "LayoutModel",
            "_view_count": null,
            "_view_module": "@jupyter-widgets/base",
            "_view_module_version": "1.2.0",
            "_view_name": "LayoutView",
            "align_content": null,
            "align_items": null,
            "align_self": null,
            "border": null,
            "bottom": null,
            "display": null,
            "flex": null,
            "flex_flow": null,
            "grid_area": null,
            "grid_auto_columns": null,
            "grid_auto_flow": null,
            "grid_auto_rows": null,
            "grid_column": null,
            "grid_gap": null,
            "grid_row": null,
            "grid_template_areas": null,
            "grid_template_columns": null,
            "grid_template_rows": null,
            "height": null,
            "justify_content": null,
            "justify_items": null,
            "left": null,
            "margin": null,
            "max_height": null,
            "max_width": null,
            "min_height": null,
            "min_width": null,
            "object_fit": null,
            "object_position": null,
            "order": null,
            "overflow": null,
            "overflow_x": null,
            "overflow_y": null,
            "padding": null,
            "right": null,
            "top": null,
            "visibility": null,
            "width": null
          }
        },
        "77778373637e4b658bf7da43a0cea550": {
          "model_module": "@jupyter-widgets/controls",
          "model_name": "DescriptionStyleModel",
          "model_module_version": "1.5.0",
          "state": {
            "_model_module": "@jupyter-widgets/controls",
            "_model_module_version": "1.5.0",
            "_model_name": "DescriptionStyleModel",
            "_view_count": null,
            "_view_module": "@jupyter-widgets/base",
            "_view_module_version": "1.2.0",
            "_view_name": "StyleView",
            "description_width": ""
          }
        },
        "d95ca5bbdbf94eee9acd077dc5d7382b": {
          "model_module": "@jupyter-widgets/controls",
          "model_name": "HBoxModel",
          "model_module_version": "1.5.0",
          "state": {
            "_dom_classes": [],
            "_model_module": "@jupyter-widgets/controls",
            "_model_module_version": "1.5.0",
            "_model_name": "HBoxModel",
            "_view_count": null,
            "_view_module": "@jupyter-widgets/controls",
            "_view_module_version": "1.5.0",
            "_view_name": "HBoxView",
            "box_style": "",
            "children": [
              "IPY_MODEL_e563772e80ae41f9a8f5be6e5f5317ae",
              "IPY_MODEL_769b01172c64403b9673960f7a154943",
              "IPY_MODEL_7307afd4cddd4bcda5cb696ad19a8f18"
            ],
            "layout": "IPY_MODEL_6bc0bdc44a1f484a85a29b17e00347ea"
          }
        },
        "e563772e80ae41f9a8f5be6e5f5317ae": {
          "model_module": "@jupyter-widgets/controls",
          "model_name": "HTMLModel",
          "model_module_version": "1.5.0",
          "state": {
            "_dom_classes": [],
            "_model_module": "@jupyter-widgets/controls",
            "_model_module_version": "1.5.0",
            "_model_name": "HTMLModel",
            "_view_count": null,
            "_view_module": "@jupyter-widgets/controls",
            "_view_module_version": "1.5.0",
            "_view_name": "HTMLView",
            "description": "",
            "description_tooltip": null,
            "layout": "IPY_MODEL_376eb47ae8d94bbda06db171f518b44c",
            "placeholder": "​",
            "style": "IPY_MODEL_efe46c83b2c5490e8fcb46ea47436b46",
            "value": "Predicting DataLoader 0: 100%"
          }
        },
        "769b01172c64403b9673960f7a154943": {
          "model_module": "@jupyter-widgets/controls",
          "model_name": "FloatProgressModel",
          "model_module_version": "1.5.0",
          "state": {
            "_dom_classes": [],
            "_model_module": "@jupyter-widgets/controls",
            "_model_module_version": "1.5.0",
            "_model_name": "FloatProgressModel",
            "_view_count": null,
            "_view_module": "@jupyter-widgets/controls",
            "_view_module_version": "1.5.0",
            "_view_name": "ProgressView",
            "bar_style": "success",
            "description": "",
            "description_tooltip": null,
            "layout": "IPY_MODEL_ebcfb4a80e9d4ce383155d78b2c85cbb",
            "max": 153,
            "min": 0,
            "orientation": "horizontal",
            "style": "IPY_MODEL_efb88fc6868f446a98a0dbf9ca8924f3",
            "value": 153
          }
        },
        "7307afd4cddd4bcda5cb696ad19a8f18": {
          "model_module": "@jupyter-widgets/controls",
          "model_name": "HTMLModel",
          "model_module_version": "1.5.0",
          "state": {
            "_dom_classes": [],
            "_model_module": "@jupyter-widgets/controls",
            "_model_module_version": "1.5.0",
            "_model_name": "HTMLModel",
            "_view_count": null,
            "_view_module": "@jupyter-widgets/controls",
            "_view_module_version": "1.5.0",
            "_view_name": "HTMLView",
            "description": "",
            "description_tooltip": null,
            "layout": "IPY_MODEL_88e7219f1c7c489ca6dc7e7181fc0f9c",
            "placeholder": "​",
            "style": "IPY_MODEL_785c0d7e1f904e1fadf5b9bb9c6e6dfd",
            "value": " 153/153 [00:00&lt;00:00, 194.31it/s]"
          }
        },
        "6bc0bdc44a1f484a85a29b17e00347ea": {
          "model_module": "@jupyter-widgets/base",
          "model_name": "LayoutModel",
          "model_module_version": "1.2.0",
          "state": {
            "_model_module": "@jupyter-widgets/base",
            "_model_module_version": "1.2.0",
            "_model_name": "LayoutModel",
            "_view_count": null,
            "_view_module": "@jupyter-widgets/base",
            "_view_module_version": "1.2.0",
            "_view_name": "LayoutView",
            "align_content": null,
            "align_items": null,
            "align_self": null,
            "border": null,
            "bottom": null,
            "display": "inline-flex",
            "flex": null,
            "flex_flow": "row wrap",
            "grid_area": null,
            "grid_auto_columns": null,
            "grid_auto_flow": null,
            "grid_auto_rows": null,
            "grid_column": null,
            "grid_gap": null,
            "grid_row": null,
            "grid_template_areas": null,
            "grid_template_columns": null,
            "grid_template_rows": null,
            "height": null,
            "justify_content": null,
            "justify_items": null,
            "left": null,
            "margin": null,
            "max_height": null,
            "max_width": null,
            "min_height": null,
            "min_width": null,
            "object_fit": null,
            "object_position": null,
            "order": null,
            "overflow": null,
            "overflow_x": null,
            "overflow_y": null,
            "padding": null,
            "right": null,
            "top": null,
            "visibility": null,
            "width": "100%"
          }
        },
        "376eb47ae8d94bbda06db171f518b44c": {
          "model_module": "@jupyter-widgets/base",
          "model_name": "LayoutModel",
          "model_module_version": "1.2.0",
          "state": {
            "_model_module": "@jupyter-widgets/base",
            "_model_module_version": "1.2.0",
            "_model_name": "LayoutModel",
            "_view_count": null,
            "_view_module": "@jupyter-widgets/base",
            "_view_module_version": "1.2.0",
            "_view_name": "LayoutView",
            "align_content": null,
            "align_items": null,
            "align_self": null,
            "border": null,
            "bottom": null,
            "display": null,
            "flex": null,
            "flex_flow": null,
            "grid_area": null,
            "grid_auto_columns": null,
            "grid_auto_flow": null,
            "grid_auto_rows": null,
            "grid_column": null,
            "grid_gap": null,
            "grid_row": null,
            "grid_template_areas": null,
            "grid_template_columns": null,
            "grid_template_rows": null,
            "height": null,
            "justify_content": null,
            "justify_items": null,
            "left": null,
            "margin": null,
            "max_height": null,
            "max_width": null,
            "min_height": null,
            "min_width": null,
            "object_fit": null,
            "object_position": null,
            "order": null,
            "overflow": null,
            "overflow_x": null,
            "overflow_y": null,
            "padding": null,
            "right": null,
            "top": null,
            "visibility": null,
            "width": null
          }
        },
        "efe46c83b2c5490e8fcb46ea47436b46": {
          "model_module": "@jupyter-widgets/controls",
          "model_name": "DescriptionStyleModel",
          "model_module_version": "1.5.0",
          "state": {
            "_model_module": "@jupyter-widgets/controls",
            "_model_module_version": "1.5.0",
            "_model_name": "DescriptionStyleModel",
            "_view_count": null,
            "_view_module": "@jupyter-widgets/base",
            "_view_module_version": "1.2.0",
            "_view_name": "StyleView",
            "description_width": ""
          }
        },
        "ebcfb4a80e9d4ce383155d78b2c85cbb": {
          "model_module": "@jupyter-widgets/base",
          "model_name": "LayoutModel",
          "model_module_version": "1.2.0",
          "state": {
            "_model_module": "@jupyter-widgets/base",
            "_model_module_version": "1.2.0",
            "_model_name": "LayoutModel",
            "_view_count": null,
            "_view_module": "@jupyter-widgets/base",
            "_view_module_version": "1.2.0",
            "_view_name": "LayoutView",
            "align_content": null,
            "align_items": null,
            "align_self": null,
            "border": null,
            "bottom": null,
            "display": null,
            "flex": "2",
            "flex_flow": null,
            "grid_area": null,
            "grid_auto_columns": null,
            "grid_auto_flow": null,
            "grid_auto_rows": null,
            "grid_column": null,
            "grid_gap": null,
            "grid_row": null,
            "grid_template_areas": null,
            "grid_template_columns": null,
            "grid_template_rows": null,
            "height": null,
            "justify_content": null,
            "justify_items": null,
            "left": null,
            "margin": null,
            "max_height": null,
            "max_width": null,
            "min_height": null,
            "min_width": null,
            "object_fit": null,
            "object_position": null,
            "order": null,
            "overflow": null,
            "overflow_x": null,
            "overflow_y": null,
            "padding": null,
            "right": null,
            "top": null,
            "visibility": null,
            "width": null
          }
        },
        "efb88fc6868f446a98a0dbf9ca8924f3": {
          "model_module": "@jupyter-widgets/controls",
          "model_name": "ProgressStyleModel",
          "model_module_version": "1.5.0",
          "state": {
            "_model_module": "@jupyter-widgets/controls",
            "_model_module_version": "1.5.0",
            "_model_name": "ProgressStyleModel",
            "_view_count": null,
            "_view_module": "@jupyter-widgets/base",
            "_view_module_version": "1.2.0",
            "_view_name": "StyleView",
            "bar_color": null,
            "description_width": ""
          }
        },
        "88e7219f1c7c489ca6dc7e7181fc0f9c": {
          "model_module": "@jupyter-widgets/base",
          "model_name": "LayoutModel",
          "model_module_version": "1.2.0",
          "state": {
            "_model_module": "@jupyter-widgets/base",
            "_model_module_version": "1.2.0",
            "_model_name": "LayoutModel",
            "_view_count": null,
            "_view_module": "@jupyter-widgets/base",
            "_view_module_version": "1.2.0",
            "_view_name": "LayoutView",
            "align_content": null,
            "align_items": null,
            "align_self": null,
            "border": null,
            "bottom": null,
            "display": null,
            "flex": null,
            "flex_flow": null,
            "grid_area": null,
            "grid_auto_columns": null,
            "grid_auto_flow": null,
            "grid_auto_rows": null,
            "grid_column": null,
            "grid_gap": null,
            "grid_row": null,
            "grid_template_areas": null,
            "grid_template_columns": null,
            "grid_template_rows": null,
            "height": null,
            "justify_content": null,
            "justify_items": null,
            "left": null,
            "margin": null,
            "max_height": null,
            "max_width": null,
            "min_height": null,
            "min_width": null,
            "object_fit": null,
            "object_position": null,
            "order": null,
            "overflow": null,
            "overflow_x": null,
            "overflow_y": null,
            "padding": null,
            "right": null,
            "top": null,
            "visibility": null,
            "width": null
          }
        },
        "785c0d7e1f904e1fadf5b9bb9c6e6dfd": {
          "model_module": "@jupyter-widgets/controls",
          "model_name": "DescriptionStyleModel",
          "model_module_version": "1.5.0",
          "state": {
            "_model_module": "@jupyter-widgets/controls",
            "_model_module_version": "1.5.0",
            "_model_name": "DescriptionStyleModel",
            "_view_count": null,
            "_view_module": "@jupyter-widgets/base",
            "_view_module_version": "1.2.0",
            "_view_name": "StyleView",
            "description_width": ""
          }
        },
        "913c4e5b016e4200aeba7f5574bb6fc8": {
          "model_module": "@jupyter-widgets/controls",
          "model_name": "HBoxModel",
          "model_module_version": "1.5.0",
          "state": {
            "_dom_classes": [],
            "_model_module": "@jupyter-widgets/controls",
            "_model_module_version": "1.5.0",
            "_model_name": "HBoxModel",
            "_view_count": null,
            "_view_module": "@jupyter-widgets/controls",
            "_view_module_version": "1.5.0",
            "_view_name": "HBoxView",
            "box_style": "",
            "children": [
              "IPY_MODEL_b3d33c393eef46429eda05438d872cbc",
              "IPY_MODEL_0dac9e0830a9473cbfbaf4fdb7ccb964",
              "IPY_MODEL_55eaac25c94c4db7bd2601c463ce3fdc"
            ],
            "layout": "IPY_MODEL_65e0a48488704e3ea9467a71fa5f681c"
          }
        },
        "b3d33c393eef46429eda05438d872cbc": {
          "model_module": "@jupyter-widgets/controls",
          "model_name": "HTMLModel",
          "model_module_version": "1.5.0",
          "state": {
            "_dom_classes": [],
            "_model_module": "@jupyter-widgets/controls",
            "_model_module_version": "1.5.0",
            "_model_name": "HTMLModel",
            "_view_count": null,
            "_view_module": "@jupyter-widgets/controls",
            "_view_module_version": "1.5.0",
            "_view_name": "HTMLView",
            "description": "",
            "description_tooltip": null,
            "layout": "IPY_MODEL_4478e9da90e34d32bbd75f2d8782486a",
            "placeholder": "​",
            "style": "IPY_MODEL_363f3bd3762545fca7da062e484d9c56",
            "value": "Predicting DataLoader 0: 100%"
          }
        },
        "0dac9e0830a9473cbfbaf4fdb7ccb964": {
          "model_module": "@jupyter-widgets/controls",
          "model_name": "FloatProgressModel",
          "model_module_version": "1.5.0",
          "state": {
            "_dom_classes": [],
            "_model_module": "@jupyter-widgets/controls",
            "_model_module_version": "1.5.0",
            "_model_name": "FloatProgressModel",
            "_view_count": null,
            "_view_module": "@jupyter-widgets/controls",
            "_view_module_version": "1.5.0",
            "_view_name": "ProgressView",
            "bar_style": "success",
            "description": "",
            "description_tooltip": null,
            "layout": "IPY_MODEL_d2100a6ea2f04f528a835ea6cc0c0dec",
            "max": 155,
            "min": 0,
            "orientation": "horizontal",
            "style": "IPY_MODEL_db6f87ff1a0342309f129516fc9322f3",
            "value": 155
          }
        },
        "55eaac25c94c4db7bd2601c463ce3fdc": {
          "model_module": "@jupyter-widgets/controls",
          "model_name": "HTMLModel",
          "model_module_version": "1.5.0",
          "state": {
            "_dom_classes": [],
            "_model_module": "@jupyter-widgets/controls",
            "_model_module_version": "1.5.0",
            "_model_name": "HTMLModel",
            "_view_count": null,
            "_view_module": "@jupyter-widgets/controls",
            "_view_module_version": "1.5.0",
            "_view_name": "HTMLView",
            "description": "",
            "description_tooltip": null,
            "layout": "IPY_MODEL_fc0a17c003e24abc913e12d9b87527a2",
            "placeholder": "​",
            "style": "IPY_MODEL_133ac4ed652b4d4492f0acc3c9e2a7d0",
            "value": " 155/155 [00:00&lt;00:00, 218.77it/s]"
          }
        },
        "65e0a48488704e3ea9467a71fa5f681c": {
          "model_module": "@jupyter-widgets/base",
          "model_name": "LayoutModel",
          "model_module_version": "1.2.0",
          "state": {
            "_model_module": "@jupyter-widgets/base",
            "_model_module_version": "1.2.0",
            "_model_name": "LayoutModel",
            "_view_count": null,
            "_view_module": "@jupyter-widgets/base",
            "_view_module_version": "1.2.0",
            "_view_name": "LayoutView",
            "align_content": null,
            "align_items": null,
            "align_self": null,
            "border": null,
            "bottom": null,
            "display": "inline-flex",
            "flex": null,
            "flex_flow": "row wrap",
            "grid_area": null,
            "grid_auto_columns": null,
            "grid_auto_flow": null,
            "grid_auto_rows": null,
            "grid_column": null,
            "grid_gap": null,
            "grid_row": null,
            "grid_template_areas": null,
            "grid_template_columns": null,
            "grid_template_rows": null,
            "height": null,
            "justify_content": null,
            "justify_items": null,
            "left": null,
            "margin": null,
            "max_height": null,
            "max_width": null,
            "min_height": null,
            "min_width": null,
            "object_fit": null,
            "object_position": null,
            "order": null,
            "overflow": null,
            "overflow_x": null,
            "overflow_y": null,
            "padding": null,
            "right": null,
            "top": null,
            "visibility": null,
            "width": "100%"
          }
        },
        "4478e9da90e34d32bbd75f2d8782486a": {
          "model_module": "@jupyter-widgets/base",
          "model_name": "LayoutModel",
          "model_module_version": "1.2.0",
          "state": {
            "_model_module": "@jupyter-widgets/base",
            "_model_module_version": "1.2.0",
            "_model_name": "LayoutModel",
            "_view_count": null,
            "_view_module": "@jupyter-widgets/base",
            "_view_module_version": "1.2.0",
            "_view_name": "LayoutView",
            "align_content": null,
            "align_items": null,
            "align_self": null,
            "border": null,
            "bottom": null,
            "display": null,
            "flex": null,
            "flex_flow": null,
            "grid_area": null,
            "grid_auto_columns": null,
            "grid_auto_flow": null,
            "grid_auto_rows": null,
            "grid_column": null,
            "grid_gap": null,
            "grid_row": null,
            "grid_template_areas": null,
            "grid_template_columns": null,
            "grid_template_rows": null,
            "height": null,
            "justify_content": null,
            "justify_items": null,
            "left": null,
            "margin": null,
            "max_height": null,
            "max_width": null,
            "min_height": null,
            "min_width": null,
            "object_fit": null,
            "object_position": null,
            "order": null,
            "overflow": null,
            "overflow_x": null,
            "overflow_y": null,
            "padding": null,
            "right": null,
            "top": null,
            "visibility": null,
            "width": null
          }
        },
        "363f3bd3762545fca7da062e484d9c56": {
          "model_module": "@jupyter-widgets/controls",
          "model_name": "DescriptionStyleModel",
          "model_module_version": "1.5.0",
          "state": {
            "_model_module": "@jupyter-widgets/controls",
            "_model_module_version": "1.5.0",
            "_model_name": "DescriptionStyleModel",
            "_view_count": null,
            "_view_module": "@jupyter-widgets/base",
            "_view_module_version": "1.2.0",
            "_view_name": "StyleView",
            "description_width": ""
          }
        },
        "d2100a6ea2f04f528a835ea6cc0c0dec": {
          "model_module": "@jupyter-widgets/base",
          "model_name": "LayoutModel",
          "model_module_version": "1.2.0",
          "state": {
            "_model_module": "@jupyter-widgets/base",
            "_model_module_version": "1.2.0",
            "_model_name": "LayoutModel",
            "_view_count": null,
            "_view_module": "@jupyter-widgets/base",
            "_view_module_version": "1.2.0",
            "_view_name": "LayoutView",
            "align_content": null,
            "align_items": null,
            "align_self": null,
            "border": null,
            "bottom": null,
            "display": null,
            "flex": "2",
            "flex_flow": null,
            "grid_area": null,
            "grid_auto_columns": null,
            "grid_auto_flow": null,
            "grid_auto_rows": null,
            "grid_column": null,
            "grid_gap": null,
            "grid_row": null,
            "grid_template_areas": null,
            "grid_template_columns": null,
            "grid_template_rows": null,
            "height": null,
            "justify_content": null,
            "justify_items": null,
            "left": null,
            "margin": null,
            "max_height": null,
            "max_width": null,
            "min_height": null,
            "min_width": null,
            "object_fit": null,
            "object_position": null,
            "order": null,
            "overflow": null,
            "overflow_x": null,
            "overflow_y": null,
            "padding": null,
            "right": null,
            "top": null,
            "visibility": null,
            "width": null
          }
        },
        "db6f87ff1a0342309f129516fc9322f3": {
          "model_module": "@jupyter-widgets/controls",
          "model_name": "ProgressStyleModel",
          "model_module_version": "1.5.0",
          "state": {
            "_model_module": "@jupyter-widgets/controls",
            "_model_module_version": "1.5.0",
            "_model_name": "ProgressStyleModel",
            "_view_count": null,
            "_view_module": "@jupyter-widgets/base",
            "_view_module_version": "1.2.0",
            "_view_name": "StyleView",
            "bar_color": null,
            "description_width": ""
          }
        },
        "fc0a17c003e24abc913e12d9b87527a2": {
          "model_module": "@jupyter-widgets/base",
          "model_name": "LayoutModel",
          "model_module_version": "1.2.0",
          "state": {
            "_model_module": "@jupyter-widgets/base",
            "_model_module_version": "1.2.0",
            "_model_name": "LayoutModel",
            "_view_count": null,
            "_view_module": "@jupyter-widgets/base",
            "_view_module_version": "1.2.0",
            "_view_name": "LayoutView",
            "align_content": null,
            "align_items": null,
            "align_self": null,
            "border": null,
            "bottom": null,
            "display": null,
            "flex": null,
            "flex_flow": null,
            "grid_area": null,
            "grid_auto_columns": null,
            "grid_auto_flow": null,
            "grid_auto_rows": null,
            "grid_column": null,
            "grid_gap": null,
            "grid_row": null,
            "grid_template_areas": null,
            "grid_template_columns": null,
            "grid_template_rows": null,
            "height": null,
            "justify_content": null,
            "justify_items": null,
            "left": null,
            "margin": null,
            "max_height": null,
            "max_width": null,
            "min_height": null,
            "min_width": null,
            "object_fit": null,
            "object_position": null,
            "order": null,
            "overflow": null,
            "overflow_x": null,
            "overflow_y": null,
            "padding": null,
            "right": null,
            "top": null,
            "visibility": null,
            "width": null
          }
        },
        "133ac4ed652b4d4492f0acc3c9e2a7d0": {
          "model_module": "@jupyter-widgets/controls",
          "model_name": "DescriptionStyleModel",
          "model_module_version": "1.5.0",
          "state": {
            "_model_module": "@jupyter-widgets/controls",
            "_model_module_version": "1.5.0",
            "_model_name": "DescriptionStyleModel",
            "_view_count": null,
            "_view_module": "@jupyter-widgets/base",
            "_view_module_version": "1.2.0",
            "_view_name": "StyleView",
            "description_width": ""
          }
        }
      }
    }
  },
  "nbformat": 4,
  "nbformat_minor": 0
}